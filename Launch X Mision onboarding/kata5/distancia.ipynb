{
 "cells": [
  {
   "cell_type": "markdown",
   "metadata": {},
   "source": []
  },
  {
   "cell_type": "code",
   "execution_count": 14,
   "metadata": {},
   "outputs": [
    {
     "name": "stdout",
     "output_type": "stream",
     "text": [
      "\n",
      "distancia del planeta Tierra al sol es: 200 \n",
      "distancia del planeta Jupiter al sol es: 100 \n",
      "----------------------------------\n",
      "Distancia entre los planetas: Tierra - Jupiter\n",
      "Distancia: 100 Km\n",
      "\n"
     ]
    }
   ],
   "source": [
    "entradaDistancia1 = input(\"Ingresa la distancia entre el primer planeta y el sol\")\n",
    "entradaDistancia2 = input(\"Ingresa la distancia entre el segundo planeta y el sol\")\n",
    "distanciaEntreSolPlaneta1 = int(entradaDistancia1)\n",
    "distanciaEntreSolPlaneta2 = int(entradaDistancia2)\n",
    "distanciaPlanetas = distanciaEntreSolPlaneta1 - distanciaEntreSolPlaneta2\n",
    "\n",
    "distanciaEntrePlanetas = f\"\"\"\n",
    "distancia del planeta {nombrePlaneta1} al sol es: {distanciaEntreSolPlaneta1} \n",
    "distancia del planeta {nombrePlaneta2} al sol es: {distanciaEntreSolPlaneta2} \n",
    "----------------------------------\n",
    "Distancia entre los planetas: {nombrePlaneta1} - {nombrePlaneta2}\n",
    "Distancia: {abs(distanciaPlanetas)} Km\n",
    "\"\"\"\n",
    "print(distanciaEntrePlanetas)"
   ]
  }
 ],
 "metadata": {
  "interpreter": {
   "hash": "69eb92836b941e979072a76c7fcfffe5419cca933cedd02cfafbdfca1a93358c"
  },
  "kernelspec": {
   "display_name": "Python 3.9.10 64-bit",
   "language": "python",
   "name": "python3"
  },
  "language_info": {
   "codemirror_mode": {
    "name": "ipython",
    "version": 3
   },
   "file_extension": ".py",
   "mimetype": "text/x-python",
   "name": "python",
   "nbconvert_exporter": "python",
   "pygments_lexer": "ipython3",
   "version": "3.9.10"
  },
  "orig_nbformat": 4
 },
 "nbformat": 4,
 "nbformat_minor": 2
}
