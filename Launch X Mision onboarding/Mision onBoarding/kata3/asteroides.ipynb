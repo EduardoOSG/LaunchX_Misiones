{
 "cells": [
  {
   "cell_type": "markdown",
   "metadata": {},
   "source": [
    "3\n"
   ]
  },
  {
   "cell_type": "code",
   "execution_count": 1,
   "metadata": {},
   "outputs": [
    {
     "name": "stdout",
     "output_type": "stream",
     "text": [
      "Advertencia: El asteroide ha superado la velocidad maxima\n"
     ]
    }
   ],
   "source": [
    "velocidadAsteroide = 49\n",
    "velocidadAdvertencia = 25\n",
    "if velocidadAsteroide > velocidadAdvertencia:\n",
    "    print( 'Advertencia: El asteroide ha superado la velocidad maxima' )\n",
    "else:\n",
    "    print('Todo despejado')"
   ]
  },
  {
   "cell_type": "markdown",
   "metadata": {},
   "source": [
    "3.1\n"
   ]
  },
  {
   "cell_type": "code",
   "execution_count": 5,
   "metadata": {},
   "outputs": [
    {
     "name": "stdout",
     "output_type": "stream",
     "text": [
      "No sucede nada\n"
     ]
    }
   ],
   "source": [
    "velocidadAsteroide = 19\n",
    "if velocidadAsteroide > 20:\n",
    "    print(' Alerta a las personas de todo el mundo que deben buscar un asteroide en el cielo. ¡Hay uno que se dirige a la tierra ahora a una velocidad de '+ str(velocidadAsteroide) +' km/s!')\n",
    "elif velocidadAsteroide == 20:\n",
    "    print('Hay rayos en el cielo')\n",
    "else:\n",
    "    print('No sucede nada')\n",
    "\n"
   ]
  },
  {
   "cell_type": "markdown",
   "metadata": {},
   "source": [
    "3.2\n"
   ]
  },
  {
   "cell_type": "code",
   "execution_count": 11,
   "metadata": {},
   "outputs": [
    {
     "name": "stdout",
     "output_type": "stream",
     "text": [
      "Se pueden ver luces en el cielo\n"
     ]
    }
   ],
   "source": [
    "velocidadAsteroide = 50\n",
    "dimensionAsteroide = 20\n",
    "if velocidadAsteroide > 25 and dimensionAsteroide > 25 and dimensionAsteroide < 1000:\n",
    "    print('Alerta el asteroide se acerca a una velocidad de: '+ str(velocidadAsteroide) +'Km/s'+' y tiene una dimencion de: '+ str(dimensionAsteroide)+'metros')\n",
    "elif velocidadAsteroide >= 20 :\n",
    "    print('Se pueden ver luces en el cielo')\n",
    "elif dimensionAsteroide < 25:\n",
    "    print('Nada que ver aquí :)')\n",
    "else:\n",
    "    print('Nada que ver aquí :)')\n",
    "\n",
    "    "
   ]
  }
 ],
 "metadata": {
  "interpreter": {
   "hash": "7de4b518e97414a732f684e1c9a14f02bc77954e9999b15dfee1d8496268c119"
  },
  "kernelspec": {
   "display_name": "Python 3.9.10 64-bit (windows store)",
   "language": "python",
   "name": "python3"
  },
  "language_info": {
   "codemirror_mode": {
    "name": "ipython",
    "version": 3
   },
   "file_extension": ".py",
   "mimetype": "text/x-python",
   "name": "python",
   "nbconvert_exporter": "python",
   "pygments_lexer": "ipython3",
   "version": "3.9.10"
  },
  "orig_nbformat": 4
 },
 "nbformat": 4,
 "nbformat_minor": 2
}
