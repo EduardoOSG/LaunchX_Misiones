{
 "cells": [
  {
   "cell_type": "code",
   "execution_count": null,
   "metadata": {},
   "outputs": [],
   "source": []
  },
  {
   "cell_type": "code",
   "execution_count": 2,
   "metadata": {},
   "outputs": [
    {
     "name": "stdout",
     "output_type": "stream",
     "text": [
      "REPORTE:\n",
      "    Capacidad de conbustible promedio: 63.333333333333336%\n",
      "    Capacidad tanque uno: 80%\n",
      "    Capacidad tanque dos: 20%\n",
      "    Capacidad tanque tres: 90% \n",
      "    \n",
      "63.333333333333336\n"
     ]
    }
   ],
   "source": [
    "def generate_report(tanqueUno, tanqueDos, tanqueTres):\n",
    "    capacidadPromedio = (tanqueUno + tanqueDos + tanqueTres) / 3\n",
    "    return f\"\"\"REPORTE:\n",
    "    Capacidad de conbustible promedio: {promedio([80,20,90])}%\n",
    "    Capacidad tanque uno: {tanqueUno}%\n",
    "    Capacidad tanque dos: {tanqueDos}%\n",
    "    Capacidad tanque tres: {tanqueTres}% \n",
    "    \"\"\"\n",
    "print(generate_report(80,20,90))\n",
    "\n",
    "def promedio(arreglo):\n",
    "    sumaTotal = sum(arreglo)\n",
    "    totalDeTanques = len(arreglo)\n",
    "    promedio = sumaTotal/totalDeTanques\n",
    "    return promedio"
   ]
  }
 ],
 "metadata": {
  "interpreter": {
   "hash": "7de4b518e97414a732f684e1c9a14f02bc77954e9999b15dfee1d8496268c119"
  },
  "kernelspec": {
   "display_name": "Python 3.9.10 64-bit (windows store)",
   "language": "python",
   "name": "python3"
  },
  "language_info": {
   "codemirror_mode": {
    "name": "ipython",
    "version": 3
   },
   "file_extension": ".py",
   "mimetype": "text/x-python",
   "name": "python",
   "nbconvert_exporter": "python",
   "pygments_lexer": "ipython3",
   "version": "3.9.10"
  },
  "orig_nbformat": 4
 },
 "nbformat": 4,
 "nbformat_minor": 2
}
